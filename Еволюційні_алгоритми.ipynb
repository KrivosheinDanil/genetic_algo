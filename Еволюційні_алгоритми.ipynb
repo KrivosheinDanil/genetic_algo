{
  "nbformat": 4,
  "nbformat_minor": 0,
  "metadata": {
    "colab": {
      "provenance": []
    },
    "kernelspec": {
      "name": "python3",
      "display_name": "Python 3"
    },
    "language_info": {
      "name": "python"
    }
  },
  "cells": [
    {
      "cell_type": "code",
      "source": [
        "!pip install deap"
      ],
      "metadata": {
        "colab": {
          "base_uri": "https://localhost:8080/"
        },
        "id": "9mrh72RU1h44",
        "outputId": "d16a5897-c0e8-4f1c-b368-0d75c8101f22"
      },
      "execution_count": 3,
      "outputs": [
        {
          "output_type": "stream",
          "name": "stdout",
          "text": [
            "Requirement already satisfied: deap in /usr/local/lib/python3.10/dist-packages (1.4.1)\n",
            "Requirement already satisfied: numpy in /usr/local/lib/python3.10/dist-packages (from deap) (1.25.2)\n"
          ]
        }
      ]
    },
    {
      "cell_type": "code",
      "source": [
        "from deap import algorithms\n",
        "from deap import base\n",
        "from deap import creator\n",
        "from deap import tools\n",
        "\n",
        "import numpy\n",
        "\n",
        "import random\n",
        "\n",
        "items = [\n",
        "    (\"Мапа\", 9, 150),\n",
        "    (\"Компас\", 13, 35),\n",
        "    (\"Вода\", 153, 200),\n",
        "    (\"Сендвіч\", 50, 160),\n",
        "    (\"Глюкоза\", 15, 60),\n",
        "    (\"Кухоль\", 68, 45),\n",
        "    (\"Банан\", 27, 60),\n",
        "    (\"Яблуко\", 39, 40),\n",
        "    (\"Сир\", 23, 30),\n",
        "    (\"Пиво\", 52, 10),\n",
        "    (\"Крем від загару\", 11, 70),\n",
        "    (\"Камера\", 32, 30),\n",
        "    (\"Футболка\", 24, 15),\n",
        "    (\"Штани\", 48, 10),\n",
        "    (\"Парасолька\", 73, 40),\n",
        "    (\"Непромокальні штани\", 42, 70),\n",
        "    (\"Непромокальний плащ\", 43, 75),\n",
        "    (\"Гаманець\", 22, 80),\n",
        "    (\"Сонячні окуляри\", 7, 20),\n",
        "    (\"Рушник\", 18, 12),\n",
        "    (\"Шкарпетки\", 4, 50),\n",
        "    (\"Книга\", 30, 10)\n",
        "]\n",
        "\n",
        "creator.create(\"Fitness\", base.Fitness, weights=(-1.0, 1.0))\n",
        "creator.create(\"Individual\", list, fitness=creator.Fitness)\n",
        "\n",
        "\n",
        "NUMBER_OF_ITEMS = len(items)\n",
        "MAX_WEIGHT = 400\n",
        "\n",
        "\n",
        "toolbox = base.Toolbox()\n",
        "toolbox.register(\"attr_bool\",\n",
        "                 random.randint,\n",
        "                 0,\n",
        "                 1\n",
        "                )\n",
        "toolbox.register(\"individual\",\n",
        "                 tools.initRepeat,\n",
        "                 creator.Individual,\n",
        "                 toolbox.attr_bool,\n",
        "                 NUMBER_OF_ITEMS\n",
        "                )\n",
        "toolbox.register(\"population\",\n",
        "                 tools.initRepeat,\n",
        "                 list,\n",
        "                 toolbox.individual\n",
        "                )\n",
        "\n",
        "\n",
        "def evalKnapsack(individual):\n",
        "    weight = 0.0\n",
        "    value = 0.0\n",
        "    for i, is_take in enumerate(individual):\n",
        "        if is_take:\n",
        "          weight += items[i][1]\n",
        "          value += items[i][2]\n",
        "    if  weight > MAX_WEIGHT:\n",
        "        return 10000, 0\n",
        "    return weight, value\n",
        "\n",
        "toolbox.register(\"evaluate\", evalKnapsack)\n",
        "\n",
        "toolbox.register(\"mate\", tools.cxTwoPoint)  # Two-point crossover\n",
        "toolbox.register(\"mutate\", tools.mutFlipBit, indpb=0.02)  # Bit-flip mutation\n",
        "toolbox.register(\"select\", tools.selTournament, tournsize=3)  # Tournament selection\n",
        "\n",
        "POPULATION_SIZE = 100\n",
        "\n",
        "pop = toolbox.population(n=POPULATION_SIZE)\n",
        "hof = tools.ParetoFront()\n",
        "stats = tools.Statistics(lambda ind: ind.fitness.values)\n",
        "stats.register(\"avg\", numpy.mean, axis=0)\n",
        "stats.register(\"std\", numpy.std, axis=0)\n",
        "stats.register(\"min\", numpy.min, axis=0)\n",
        "stats.register(\"max\", numpy.max, axis=0)\n",
        "\n",
        "NUMBER_OF_GENERATIONS = 30\n",
        "LAMBDA = 100\n",
        "CROSSOVER_PROBABILITY = 0.5\n",
        "MUTATION_PROBABILITY = 0.5\n",
        "\n",
        "algorithms.eaMuPlusLambda(pop, toolbox, POPULATION_SIZE, LAMBDA, CROSSOVER_PROBABILITY, MUTATION_PROBABILITY, NUMBER_OF_GENERATIONS, stats,\n",
        "                          halloffame=hof)\n",
        "\n",
        "\n",
        "print(hof[-1])\n",
        "best_individuals = hof\n",
        "for ind in best_individuals:\n",
        "    fitness = toolbox.evaluate(ind)\n",
        "    print(\"Individual:\", ind, \"Fitness:\", fitness)"
      ],
      "metadata": {
        "colab": {
          "base_uri": "https://localhost:8080/"
        },
        "id": "cVMVeFvLzMJ6",
        "outputId": "fa8842df-3961-4a11-898d-26d4a4653c93"
      },
      "execution_count": 21,
      "outputs": [
        {
          "output_type": "stream",
          "name": "stdout",
          "text": [
            "gen\tnevals\tavg              \tstd                          \tmin        \tmax            \n",
            "0  \t100   \t[4961.06  288.79]\t[4841.40611562  294.43703215]\t[187.   0.]\t[10000.   857.]\n",
            "1  \t100   \t[1066.49  484.38]\t[2634.78033048  181.61435956]\t[178.   0.]\t[10000.   857.]\n",
            "2  \t100   \t[233.82 483.05]  \t[ 42.22164848 109.48263561]  \t[163. 215.]\t[360. 697.]    \n",
            "3  \t100   \t[197.78 447.89]  \t[ 27.51166298 111.06654717]  \t[140. 215.]\t[267. 707.]    \n",
            "4  \t100   \t[164.81 388.57]  \t[23.07409587 97.44354827]    \t[ 97. 215.]\t[228. 575.]    \n",
            "5  \t100   \t[141.59 376.88]  \t[26.49494103 85.20930466]    \t[ 72. 215.]\t[188. 575.]    \n",
            "6  \t100   \t[111.66 343.83]  \t[25.60867822 85.33429029]    \t[ 58. 110.]\t[163. 575.]    \n",
            "7  \t100   \t[ 90.8  329.68]  \t[24.89136396 83.9544972 ]    \t[36. 65.]  \t[188. 575.]    \n",
            "8  \t100   \t[ 73.25 283.35]  \t[19.30977732 98.38560616]    \t[36. 65.]  \t[130. 447.]    \n",
            "9  \t100   \t[ 56.07 229.7 ]  \t[ 15.57385951 104.75547718]  \t[34. 65.]  \t[ 97. 380.]    \n",
            "10 \t100   \t[ 44.54 173.67]  \t[11.62017212 97.06400517]    \t[23. 30.]  \t[ 81. 380.]    \n",
            "11 \t100   \t[ 35.69 106.12]  \t[ 6.83182992 74.43981193]    \t[23. 30.]  \t[ 65. 330.]    \n",
            "12 \t100   \t[30.8 78.1]      \t[ 6.8687699  64.95683182]    \t[13. 30.]  \t[ 50. 270.]    \n",
            "13 \t100   \t[26.22 52.3 ]    \t[ 6.15886353 47.42583684]    \t[13. 30.]  \t[ 36. 230.]    \n",
            "14 \t100   \t[22.41 35.  ]    \t[ 4.22633411 26.62705391]    \t[0. 0.]    \t[ 36. 230.]    \n",
            "15 \t100   \t[19.85 29.5 ]    \t[6.04379847 7.05336799]      \t[0. 0.]    \t[23. 35.]      \n",
            "16 \t100   \t[15.77 28.9 ]    \t[ 7.70565377 12.56144896]    \t[0. 0.]    \t[23. 70.]      \n",
            "17 \t100   \t[ 8.43 18.95]    \t[ 8.2586379  17.58259082]    \t[0. 0.]    \t[23. 70.]      \n",
            "18 \t100   \t[2.31 7.1 ]      \t[ 5.06299319 15.26728529]    \t[0. 0.]    \t[23. 70.]      \n",
            "19 \t100   \t[0.26 0.7 ]      \t[1.82 4.9 ]                  \t[0. 0.]    \t[13. 35.]      \n",
            "20 \t100   \t[0. 0.]          \t[0. 0.]                      \t[0. 0.]    \t[0. 0.]        \n",
            "21 \t100   \t[0. 0.]          \t[0. 0.]                      \t[0. 0.]    \t[0. 0.]        \n",
            "22 \t100   \t[0. 0.]          \t[0. 0.]                      \t[0. 0.]    \t[0. 0.]        \n",
            "23 \t100   \t[0.37 0.3 ]      \t[3.68145352 2.98496231]      \t[0. 0.]    \t[37. 30.]      \n",
            "24 \t100   \t[0. 0.]          \t[0. 0.]                      \t[0. 0.]    \t[0. 0.]        \n",
            "25 \t100   \t[0. 0.]          \t[0. 0.]                      \t[0. 0.]    \t[0. 0.]        \n",
            "26 \t100   \t[0. 0.]          \t[0. 0.]                      \t[0. 0.]    \t[0. 0.]        \n",
            "27 \t100   \t[0.43 0.75]      \t[4.27844598 7.46240578]      \t[0. 0.]    \t[43. 75.]      \n",
            "28 \t100   \t[0. 0.]          \t[0. 0.]                      \t[0. 0.]    \t[0. 0.]        \n",
            "29 \t100   \t[0. 0.]          \t[0. 0.]                      \t[0. 0.]    \t[0. 0.]        \n",
            "30 \t100   \t[0. 0.]          \t[0. 0.]                      \t[0. 0.]    \t[0. 0.]        \n",
            "[1, 0, 1, 1, 1, 0, 1, 0, 1, 0, 1, 0, 0, 0, 0, 0, 1, 0, 1, 0, 1, 0]\n",
            "Individual: [0, 0, 0, 0, 0, 0, 0, 0, 0, 0, 0, 0, 0, 0, 0, 0, 0, 0, 0, 0, 0, 0] Fitness: (0.0, 0.0)\n",
            "Individual: [0, 0, 0, 0, 0, 0, 0, 0, 0, 0, 0, 0, 0, 0, 0, 0, 0, 0, 0, 0, 1, 0] Fitness: (4.0, 50.0)\n",
            "Individual: [1, 0, 0, 0, 0, 0, 0, 0, 0, 0, 0, 0, 0, 0, 0, 0, 0, 0, 0, 0, 0, 0] Fitness: (9.0, 150.0)\n",
            "Individual: [1, 0, 0, 0, 0, 0, 0, 0, 0, 0, 0, 0, 0, 0, 0, 0, 0, 0, 0, 0, 1, 0] Fitness: (13.0, 200.0)\n",
            "Individual: [1, 0, 0, 0, 0, 0, 0, 0, 0, 0, 0, 0, 0, 0, 0, 0, 0, 0, 1, 0, 1, 0] Fitness: (20.0, 220.0)\n",
            "Individual: [1, 0, 0, 0, 0, 0, 0, 0, 0, 0, 1, 0, 0, 0, 0, 0, 0, 0, 1, 0, 0, 0] Fitness: (27.0, 240.0)\n",
            "Individual: [1, 0, 0, 0, 0, 0, 0, 0, 0, 0, 1, 0, 0, 0, 0, 0, 0, 0, 0, 1, 1, 0] Fitness: (42.0, 282.0)\n",
            "Individual: [1, 0, 0, 0, 0, 0, 0, 0, 1, 0, 1, 0, 0, 0, 0, 0, 0, 0, 0, 0, 1, 0] Fitness: (47.0, 300.0)\n",
            "Individual: [1, 0, 0, 0, 0, 0, 0, 0, 0, 0, 1, 0, 0, 0, 0, 0, 0, 0, 1, 1, 1, 0] Fitness: (49.0, 302.0)\n",
            "Individual: [1, 0, 0, 0, 0, 0, 0, 0, 1, 0, 1, 0, 0, 0, 0, 0, 0, 0, 1, 0, 1, 0] Fitness: (54.0, 320.0)\n",
            "Individual: [1, 0, 0, 0, 1, 0, 1, 0, 0, 0, 0, 0, 0, 0, 0, 0, 0, 0, 1, 0, 1, 0] Fitness: (62.0, 340.0)\n",
            "Individual: [1, 0, 0, 0, 0, 0, 1, 0, 0, 0, 0, 0, 0, 0, 0, 0, 0, 1, 0, 0, 1, 0] Fitness: (62.0, 340.0)\n",
            "Individual: [1, 0, 0, 0, 1, 0, 0, 0, 1, 0, 1, 0, 0, 0, 0, 0, 0, 0, 1, 0, 1, 0] Fitness: (69.0, 380.0)\n",
            "Individual: [1, 0, 0, 0, 0, 0, 0, 0, 1, 0, 1, 0, 0, 0, 0, 0, 0, 1, 0, 0, 1, 0] Fitness: (69.0, 380.0)\n",
            "Individual: [1, 0, 0, 0, 1, 0, 0, 0, 1, 0, 1, 0, 0, 0, 0, 0, 0, 0, 1, 1, 1, 0] Fitness: (87.0, 392.0)\n",
            "Individual: [1, 0, 0, 1, 0, 0, 0, 0, 1, 0, 0, 0, 0, 0, 0, 0, 0, 0, 1, 0, 1, 0] Fitness: (93.0, 410.0)\n",
            "Individual: [1, 0, 0, 0, 1, 0, 0, 0, 1, 0, 1, 0, 0, 0, 0, 0, 0, 1, 1, 1, 0, 0] Fitness: (105.0, 422.0)\n",
            "Individual: [1, 1, 0, 0, 1, 0, 0, 0, 0, 0, 1, 1, 0, 0, 0, 0, 0, 1, 0, 0, 1, 0] Fitness: (106.0, 475.0)\n",
            "Individual: [1, 0, 0, 0, 1, 0, 1, 0, 1, 0, 1, 0, 0, 0, 0, 0, 0, 1, 0, 0, 1, 0] Fitness: (111.0, 500.0)\n",
            "Individual: [1, 1, 0, 1, 0, 0, 0, 0, 1, 0, 0, 0, 0, 0, 0, 0, 0, 1, 1, 0, 1, 0] Fitness: (128.0, 525.0)\n",
            "Individual: [1, 1, 0, 1, 0, 0, 0, 0, 1, 0, 1, 0, 0, 0, 0, 0, 0, 1, 0, 0, 1, 0] Fitness: (132.0, 575.0)\n",
            "Individual: [1, 1, 0, 1, 1, 0, 0, 0, 1, 0, 0, 0, 0, 0, 0, 0, 0, 1, 1, 0, 1, 0] Fitness: (143.0, 585.0)\n",
            "Individual: [1, 0, 0, 1, 1, 0, 0, 0, 1, 0, 1, 0, 1, 0, 0, 0, 0, 1, 1, 1, 0, 0] Fitness: (179.0, 597.0)\n",
            "Individual: [1, 0, 0, 1, 1, 0, 1, 0, 1, 1, 1, 0, 0, 0, 0, 0, 0, 0, 1, 0, 1, 0] Fitness: (198.0, 610.0)\n",
            "Individual: [1, 0, 0, 1, 1, 0, 0, 0, 0, 0, 1, 1, 0, 0, 0, 1, 0, 1, 1, 1, 0, 0] Fitness: (206.0, 652.0)\n",
            "Individual: [1, 1, 0, 1, 0, 0, 0, 0, 1, 0, 1, 1, 0, 0, 0, 1, 0, 1, 1, 1, 1, 0] Fitness: (231.0, 707.0)\n",
            "Individual: [1, 0, 0, 1, 1, 1, 0, 0, 1, 0, 1, 0, 0, 0, 1, 0, 0, 1, 1, 0, 1, 1] Fitness: (312.0, 715.0)\n",
            "Individual: [1, 1, 0, 1, 0, 0, 0, 0, 0, 1, 1, 1, 0, 0, 0, 1, 1, 1, 1, 0, 1, 1] Fitness: (315.0, 760.0)\n",
            "Individual: [1, 0, 1, 1, 0, 0, 0, 0, 0, 0, 1, 1, 1, 0, 0, 1, 0, 0, 1, 0, 1, 0] Fitness: (332.0, 765.0)\n",
            "Individual: [1, 1, 1, 1, 1, 0, 0, 1, 0, 0, 1, 0, 0, 0, 0, 0, 0, 1, 0, 1, 1, 0] Fitness: (334.0, 857.0)\n",
            "Individual: [1, 1, 0, 1, 1, 1, 1, 0, 1, 0, 1, 1, 0, 0, 0, 1, 0, 1, 1, 1, 1, 0] Fitness: (341.0, 872.0)\n",
            "Individual: [1, 0, 1, 1, 1, 0, 1, 0, 1, 0, 1, 0, 0, 0, 0, 0, 1, 0, 1, 0, 1, 0] Fitness: (342.0, 875.0)\n"
          ]
        }
      ]
    },
    {
      "cell_type": "code",
      "source": [
        "string_ = \"\"\n",
        "for i in range(len(best_individuals[-1])):\n",
        "  if best_individuals[-1][i] > 0:\n",
        "\n",
        "    string_ = string_ + items[i][0] + \", \"\n",
        "print(f\"Краще рішення: {string_}\")"
      ],
      "metadata": {
        "colab": {
          "base_uri": "https://localhost:8080/"
        },
        "id": "xDXwuPbhmLmv",
        "outputId": "37723ee9-e9f4-466b-9818-acff8c4a973b"
      },
      "execution_count": 26,
      "outputs": [
        {
          "output_type": "stream",
          "name": "stdout",
          "text": [
            "Краще рішення: Мапа, Вода, Сендвіч, Глюкоза, Банан, Сир, Крем від загару, Непромокальний плащ, Сонячні окуляри, Шкарпетки, \n"
          ]
        }
      ]
    },
    {
      "cell_type": "code",
      "source": [],
      "metadata": {
        "id": "fgISkGFD5fho"
      },
      "execution_count": null,
      "outputs": []
    }
  ]
}